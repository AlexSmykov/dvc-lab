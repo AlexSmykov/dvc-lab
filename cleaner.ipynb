{
 "cells": [
  {
   "cell_type": "code",
   "execution_count": 4,
   "id": "c3a53404",
   "metadata": {},
   "outputs": [],
   "source": [
    "import tensorflow\n",
    "import keras\n",
    "import numpy as np\n",
    "import matplotlib \n",
    "from matplotlib import pyplot as plt\n",
    "import pandas as pd\n",
    "from sklearn.preprocessing import LabelEncoder\n",
    "from keras.utils import load_img, img_to_array, array_to_img, save_img\n",
    "import os\n",
    "from sklearn.model_selection import train_test_split\n",
    "from tensorflow.keras.preprocessing.image import apply_affine_transform\n",
    "import sys\n",
    "import random\n",
    "\n",
    "\n",
    "import warnings\n",
    "warnings.filterwarnings(\"ignore\")"
   ]
  },
  {
   "cell_type": "code",
   "execution_count": 5,
   "id": "8af319ba",
   "metadata": {},
   "outputs": [],
   "source": [
    "path_train = \"./data/training/\"\n",
    "path_valid = \"./data/validation/\"\n",
    "path_test = \"./data/evaluation/\""
   ]
  },
  {
   "cell_type": "code",
   "execution_count": 13,
   "id": "50495b48",
   "metadata": {},
   "outputs": [],
   "source": [
    "def clean_folder(path):\n",
    "    folders = os.listdir(path)\n",
    "    for folder in folders:\n",
    "        images = os.listdir(path + \"/\" + folder)\n",
    "        for img in images:\n",
    "            if img[-7:-4] == 'aug':\n",
    "                os.remove(path + \"/\" + folder + \"/\" + img)"
   ]
  },
  {
   "cell_type": "code",
   "execution_count": 14,
   "id": "2d74d6f4",
   "metadata": {},
   "outputs": [],
   "source": [
    "clean_folder(path_train)"
   ]
  },
  {
   "cell_type": "code",
   "execution_count": 15,
   "id": "ba344fb3",
   "metadata": {},
   "outputs": [],
   "source": [
    "clean_folder(path_valid)"
   ]
  },
  {
   "cell_type": "code",
   "execution_count": 16,
   "id": "52ce6f14",
   "metadata": {},
   "outputs": [],
   "source": [
    "clean_folder(path_test)"
   ]
  }
 ],
 "metadata": {
  "kernelspec": {
   "display_name": "Python 3.11.3 64-bit",
   "language": "python",
   "name": "python3"
  },
  "language_info": {
   "codemirror_mode": {
    "name": "ipython",
    "version": 3
   },
   "file_extension": ".py",
   "mimetype": "text/x-python",
   "name": "python",
   "nbconvert_exporter": "python",
   "pygments_lexer": "ipython3",
   "version": "3.11.3"
  },
  "vscode": {
   "interpreter": {
    "hash": "c261aea317cc0286b3b3261fbba9abdec21eaa57589985bb7a274bf54d6cc0a7"
   }
  }
 },
 "nbformat": 4,
 "nbformat_minor": 5
}
