{
 "cells": [
  {
   "cell_type": "code",
   "execution_count": 1,
   "id": "a8f90a21",
   "metadata": {},
   "outputs": [],
   "source": [
    "import tensorflow\n",
    "import keras\n",
    "import numpy as np\n",
    "import matplotlib \n",
    "from matplotlib import pyplot as plt\n",
    "import pandas as pd\n",
    "from sklearn.preprocessing import LabelEncoder\n",
    "from keras.utils import load_img, img_to_array, array_to_img\n",
    "import os\n",
    "from sklearn.model_selection import train_test_split\n",
    "import sys\n",
    "import json\n",
    "import dvc.api\n",
    "\n",
    "\n",
    "import warnings\n",
    "warnings.filterwarnings(\"ignore\")"
   ]
  },
  {
   "cell_type": "code",
   "execution_count": 2,
   "id": "320d786e",
   "metadata": {},
   "outputs": [],
   "source": [
    "path_train = \"./csv_storage/train.csv\"\n",
    "path_valid = \"./csv_storage/valid.csv\"\n",
    "path_test = \"./csv_storage/test.csv\"\n",
    "path_scores = \"./scores.json\""
   ]
  },
  {
   "cell_type": "code",
   "execution_count": 3,
   "id": "9c94aeb5",
   "metadata": {},
   "outputs": [],
   "source": [
    "train = pd.DataFrame(columns=[\"images_src\", \"mark\"])\n",
    "valid = pd.DataFrame(columns=[\"images_src\", \"mark\"])\n",
    "test = pd.DataFrame(columns=[\"images_src\", \"mark\"])"
   ]
  },
  {
   "cell_type": "code",
   "execution_count": 4,
   "id": "d8df2744",
   "metadata": {},
   "outputs": [],
   "source": [
    "train = pd.read_csv(path_train, index_col=False)\n",
    "test = pd.read_csv(path_valid, index_col=False)\n",
    "valid = pd.read_csv(path_test, index_col=False)"
   ]
  },
  {
   "cell_type": "code",
   "execution_count": 5,
   "id": "0035c05e",
   "metadata": {},
   "outputs": [],
   "source": [
    "def frame_to_serie(frame: pd.DataFrame):\n",
    "    data = []\n",
    "    marks = []\n",
    "    for _, info in frame.iterrows():\n",
    "        raw_img = load_img(info[0], target_size=(192, 192))\n",
    "        data.append(img_to_array(raw_img))\n",
    "        marks.append(info[1])\n",
    "    \n",
    "    return data, marks"
   ]
  },
  {
   "cell_type": "code",
   "execution_count": 6,
   "id": "d2183d52",
   "metadata": {},
   "outputs": [],
   "source": [
    "def conf_matx(x_test, y_test, model):\n",
    "    \"\"\"Построение матрицы ошибок\"\"\"\n",
    "    y_preds = []\n",
    "    y_pred = model.predict(x_test)\n",
    "    for i in range(len(y_pred)):\n",
    "        y_preds.append(np.argmax(y_pred[i]))\n",
    "    \n",
    "    y_test_t = []\n",
    "    for row in y_test:\n",
    "        for i in range(0, 2):\n",
    "            if row[i] == 1:\n",
    "                y_test_t.append(i)\n",
    "                \n",
    "\n",
    "    fig, ax = plt.subplots(figsize=(8,8)) \n",
    "\n",
    "    matrix = confusion_matrix(y_test_t, y_preds)\n",
    "    return heatmap(matrix, annot=True, cmap=\"Blues\", square=True, annot_kws={\"fontsize\":8}, fmt=\"g\")"
   ]
  },
  {
   "cell_type": "code",
   "execution_count": 7,
   "id": "7da21bbc",
   "metadata": {},
   "outputs": [],
   "source": [
    "x_train, y_train = frame_to_serie(train)\n",
    "x_valid, y_valid = frame_to_serie(valid)\n",
    "x_test, y_test = frame_to_serie(test)"
   ]
  },
  {
   "cell_type": "code",
   "execution_count": 8,
   "id": "9bef6615",
   "metadata": {},
   "outputs": [],
   "source": [
    "x_train = np.array(x_train)\n",
    "x_valid = np.array(x_valid)\n",
    "x_test = np.array(x_test)"
   ]
  },
  {
   "cell_type": "code",
   "execution_count": 15,
   "id": "d0326e23",
   "metadata": {},
   "outputs": [],
   "source": [
    "from keras.layers import Dense, Input, Dropout\n",
    "from keras.layers import Conv2D\n",
    "from keras.models import Model\n",
    "from keras.applications import MobileNet\n",
    "from keras.optimizers import Adam, SGD\n",
    "from keras.callbacks import EarlyStopping\n",
    "from keras import layers\n",
    "from keras.utils import np_utils\n",
    "from sklearn.metrics import confusion_matrix\n",
    "from seaborn import heatmap\n",
    "from keras.metrics import Precision, Recall, AUC\n",
    "import copy"
   ]
  },
  {
   "cell_type": "code",
   "execution_count": 16,
   "id": "457a7737",
   "metadata": {},
   "outputs": [],
   "source": [
    "y_train = np_utils.to_categorical(y_train, 2)\n",
    "y_valid = np_utils.to_categorical(y_valid, 2)\n",
    "y_test = np_utils.to_categorical(y_test, 2)"
   ]
  },
  {
   "cell_type": "code",
   "execution_count": 17,
   "id": "5e394b95",
   "metadata": {},
   "outputs": [],
   "source": [
    "params = dvc.api.params_show()"
   ]
  },
  {
   "cell_type": "code",
   "execution_count": 18,
   "id": "fa117ba3",
   "metadata": {},
   "outputs": [],
   "source": [
    "early = EarlyStopping(monitor=\"val_categorical_accuracy\", patience=params[\"train\"][\"patience\"])"
   ]
  },
  {
   "cell_type": "code",
   "execution_count": 19,
   "id": "4ca1da21",
   "metadata": {},
   "outputs": [],
   "source": [
    "def smart_model():\n",
    "    shape = (192, 192, 3)\n",
    "    input_tensor = Input(shape=shape)\n",
    "    base_model = MobileNet(\n",
    "        include_top=False,\n",
    "        weights='imagenet',\n",
    "        input_tensor=input_tensor,\n",
    "        input_shape=shape,\n",
    "        pooling='avg'\n",
    "    )\n",
    "\n",
    "    for layer in base_model.layers:\n",
    "        layer.trainable = True\n",
    "\n",
    "    op = Dense(params[\"model\"][\"dense\"], activation='relu')(base_model.output)\n",
    "    op = Dropout(params[\"model\"][\"dropout\"])(op)\n",
    "\n",
    "    output_tensor = Dense(2, activation='sigmoid')(op)\n",
    "\n",
    "    model = Model(input_tensor, output_tensor)\n",
    "    return model"
   ]
  },
  {
   "cell_type": "code",
   "execution_count": 20,
   "id": "393856ad",
   "metadata": {},
   "outputs": [],
   "source": [
    "model = smart_model()"
   ]
  },
  {
   "cell_type": "code",
   "execution_count": 21,
   "id": "8fd7d2ea",
   "metadata": {},
   "outputs": [],
   "source": [
    "model.compile(optimizer=SGD(),\n",
    "              loss=\"categorical_crossentropy\",\n",
    "              metrics=['categorical_accuracy', \n",
    "                       Precision(),\n",
    "                       Recall(),\n",
    "                       AUC()])"
   ]
  },
  {
   "cell_type": "code",
   "execution_count": null,
   "id": "572439ac",
   "metadata": {},
   "outputs": [],
   "source": [
    "history = model.fit(x_train,\n",
    "                    y_train,\n",
    "                    epochs=params[\"train\"][\"epochs\"],\n",
    "                    batch_size=params[\"train\"][\"batch\"],\n",
    "                    validation_data=[x_valid, y_valid],\n",
    "                    callbacks=[early])"
   ]
  },
  {
   "cell_type": "code",
   "execution_count": null,
   "id": "e5fa5ba7",
   "metadata": {},
   "outputs": [],
   "source": [
    "score = model.evaluate(x_test, y_test)\n",
    "scores = {\"Accuracy\": score[1], \"Precision\": score[2], \"Recall\": score[3], \"AUC\": score[4]}"
   ]
  },
  {
   "cell_type": "code",
   "execution_count": null,
   "id": "77dab1ac",
   "metadata": {},
   "outputs": [],
   "source": [
    "model.save(\"./models/third_model.h5\")"
   ]
  },
  {
   "cell_type": "code",
   "execution_count": null,
   "id": "dbb7c6bf",
   "metadata": {},
   "outputs": [],
   "source": [
    "with open(path_scores, 'w') as file:\n",
    "            json.dump(scores, file)"
   ]
  }
 ],
 "metadata": {
  "kernelspec": {
   "display_name": "Python 3.11.3 64-bit",
   "language": "python",
   "name": "python3"
  },
  "language_info": {
   "codemirror_mode": {
    "name": "ipython",
    "version": 3
   },
   "file_extension": ".py",
   "mimetype": "text/x-python",
   "name": "python",
   "nbconvert_exporter": "python",
   "pygments_lexer": "ipython3",
   "version": "3.11.3"
  },
  "vscode": {
   "interpreter": {
    "hash": "c261aea317cc0286b3b3261fbba9abdec21eaa57589985bb7a274bf54d6cc0a7"
   }
  }
 },
 "nbformat": 4,
 "nbformat_minor": 5
}
