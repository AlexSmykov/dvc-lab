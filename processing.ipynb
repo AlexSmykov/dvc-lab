{
 "cells": [
  {
   "cell_type": "markdown",
   "id": "4186b449",
   "metadata": {},
   "source": [
    "## Модуль проверки и выгрузки данных в csv-формат"
   ]
  },
  {
   "cell_type": "code",
   "execution_count": 100,
   "id": "74202115",
   "metadata": {},
   "outputs": [],
   "source": [
    "import tensorflow\n",
    "import keras\n",
    "import numpy as np\n",
    "import matplotlib \n",
    "from matplotlib import pyplot as plt\n",
    "import pandas as pd\n",
    "from sklearn.preprocessing import LabelEncoder\n",
    "from keras.utils import load_img, img_to_array, array_to_img\n",
    "import os\n",
    "from sklearn.model_selection import train_test_split\n",
    "import sys\n",
    "\n",
    "\n",
    "import warnings\n",
    "warnings.filterwarnings(\"ignore\")"
   ]
  },
  {
   "cell_type": "code",
   "execution_count": 101,
   "id": "f4cfe69c",
   "metadata": {},
   "outputs": [
    {
     "name": "stdout",
     "output_type": "stream",
     "text": [
      "['C:\\\\Users\\\\chern\\\\AppData\\\\Local\\\\Programs\\\\Python\\\\Python310\\\\lib\\\\site-packages\\\\ipykernel_launcher.py', '-f', 'C:\\\\Users\\\\chern\\\\AppData\\\\Roaming\\\\jupyter\\\\runtime\\\\kernel-d8f38f00-4a3c-42db-bca3-26b023dafbf4.json']\n"
     ]
    }
   ],
   "source": [
    "path_train = \"./data/training/\"\n",
    "path_valid = \"./data/validation/\"\n",
    "path_test = \"./data/evaluation/\""
   ]
  },
  {
   "cell_type": "code",
   "execution_count": 102,
   "id": "01a2c217",
   "metadata": {},
   "outputs": [],
   "source": [
    "def get_data(path):\n",
    "    food = []\n",
    "    non_food = []\n",
    "    images = os.listdir(path + \"/food\")\n",
    "    for img in images:\n",
    "        food.append(path + \"food/\" + img)\n",
    "    non_images = os.listdir(path + \"/non_food\")\n",
    "    for img in non_images:\n",
    "        non_food.append(path + \"non_food/\" + img)\n",
    "    output = [i for i in food] + [i for i in non_food]\n",
    "    marks = [0 for _ in range(len(output)//2)] + [1 for _ in range(len(output)//2)]\n",
    "    return output, marks"
   ]
  },
  {
   "cell_type": "code",
   "execution_count": 103,
   "id": "9b36dcd2",
   "metadata": {},
   "outputs": [],
   "source": [
    "x_train, y_train = get_data(path_train)\n",
    "x_valid, y_valid = get_data(path_valid)\n",
    "x_test, y_test = get_data(path_test)"
   ]
  },
  {
   "cell_type": "code",
   "execution_count": 104,
   "id": "219d2d89",
   "metadata": {},
   "outputs": [
    {
     "name": "stdout",
     "output_type": "stream",
     "text": [
      "Размер тренировочной выборки:  3000\n",
      "Размер валидационной выборки:  1000\n",
      "Размер тестовой выборки:  1000\n",
      "Сколько съедобного/несъедобного в тренировочной:  1500 / 1500\n",
      "Сколько съедобного/несъедобного в валидационной:  500 / 500\n",
      "Сколько съедобного/несъедобного в тестовой:  500 / 500\n"
     ]
    }
   ],
   "source": [
    "print(\"Размер тренировочной выборки: \", len(x_train))\n",
    "print(\"Размер валидационной выборки: \", len(x_valid))\n",
    "print(\"Размер тестовой выборки: \", len(x_test))\n",
    "print(\"Сколько съедобного/несъедобного в тренировочной: \", len([i for i in y_train if i == 1]), \"/\", \n",
    "     len([i for i in y_train if i == 0]))\n",
    "print(\"Сколько съедобного/несъедобного в валидационной: \", len([i for i in y_valid if i == 1]), \"/\", \n",
    "     len([i for i in y_valid if i == 0]))\n",
    "print(\"Сколько съедобного/несъедобного в тестовой: \", len([i for i in y_test if i == 1]), \"/\", \n",
    "     len([i for i in y_test if i == 0]))"
   ]
  },
  {
   "cell_type": "code",
   "execution_count": 105,
   "id": "80ea364e",
   "metadata": {},
   "outputs": [],
   "source": [
    "train = pd.DataFrame(columns=[\"images_src\", \"mark\"])\n",
    "valid = pd.DataFrame(columns=[\"images_src\", \"mark\"])\n",
    "test = pd.DataFrame(columns=[\"images_src\", \"mark\"])"
   ]
  },
  {
   "cell_type": "code",
   "execution_count": 106,
   "id": "d9ce11d1",
   "metadata": {},
   "outputs": [],
   "source": [
    "train[\"images_src\"] = x_train\n",
    "train[\"mark\"] = y_train\n",
    "valid[\"images_src\"] = x_valid\n",
    "valid[\"mark\"] = y_valid\n",
    "test[\"images_src\"] = x_test\n",
    "test[\"mark\"] = y_test"
   ]
  },
  {
   "cell_type": "code",
   "execution_count": 108,
   "id": "c7207584",
   "metadata": {},
   "outputs": [],
   "source": [
    "train.to_csv(\"./csv_storage/train.csv\", index=False)\n",
    "valid.to_csv(\"./csv_storage/valid.csv\", index=False)\n",
    "test.to_csv(\"./csv_storage/test.csv\", index=False)"
   ]
  }
 ],
 "metadata": {
  "kernelspec": {
   "display_name": "Python 3.11.3 64-bit",
   "language": "python",
   "name": "python3"
  },
  "language_info": {
   "codemirror_mode": {
    "name": "ipython",
    "version": 3
   },
   "file_extension": ".py",
   "mimetype": "text/x-python",
   "name": "python",
   "nbconvert_exporter": "python",
   "pygments_lexer": "ipython3",
   "version": "3.11.3"
  },
  "vscode": {
   "interpreter": {
    "hash": "c261aea317cc0286b3b3261fbba9abdec21eaa57589985bb7a274bf54d6cc0a7"
   }
  }
 },
 "nbformat": 4,
 "nbformat_minor": 5
}
