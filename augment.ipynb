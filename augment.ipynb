{
 "cells": [
  {
   "cell_type": "code",
   "execution_count": 10,
   "id": "c1786683",
   "metadata": {},
   "outputs": [],
   "source": [
    "import tensorflow\n",
    "import keras\n",
    "import numpy as np\n",
    "import matplotlib \n",
    "from matplotlib import pyplot as plt\n",
    "import pandas as pd\n",
    "from sklearn.preprocessing import LabelEncoder\n",
    "from keras.utils import load_img, img_to_array, array_to_img, save_img\n",
    "import os\n",
    "from sklearn.model_selection import train_test_split\n",
    "from tensorflow.keras.preprocessing.image import apply_affine_transform\n",
    "import sys\n",
    "import random\n",
    "\n",
    "\n",
    "import warnings\n",
    "warnings.filterwarnings(\"ignore\")"
   ]
  },
  {
   "cell_type": "code",
   "execution_count": 11,
   "id": "be04f23a",
   "metadata": {},
   "outputs": [],
   "source": [
    "path_train = \"./data/training/\"\n",
    "path_valid = \"./data/validation/\"\n",
    "path_test = \"./data/evaluation/\"\n",
    "\n",
    "aug_count = 1"
   ]
  },
  {
   "cell_type": "code",
   "execution_count": 12,
   "id": "05acef8d",
   "metadata": {},
   "outputs": [],
   "source": [
    "def rotate(img, angle: int):\n",
    "    return apply_affine_transform(img,\n",
    "                                  theta=angle,\n",
    "                                  row_axis=0,\n",
    "                                  col_axis=1,\n",
    "                                  channel_axis=2,\n",
    "                                  fill_mode=\"nearest\")"
   ]
  },
  {
   "cell_type": "code",
   "execution_count": 13,
   "id": "4842afce",
   "metadata": {},
   "outputs": [],
   "source": [
    "def horizontal(img):\n",
    "    return keras.preprocessing.image.flip_axis(img, axis=1)"
   ]
  },
  {
   "cell_type": "code",
   "execution_count": 14,
   "id": "66a61731",
   "metadata": {},
   "outputs": [],
   "source": [
    "def transform(img, value):\n",
    "    return apply_affine_transform(img,\n",
    "                                  shear=value,\n",
    "                                  row_axis=0,\n",
    "                                  col_axis=1,\n",
    "                                  channel_axis=2,\n",
    "                                  fill_mode=\"nearest\")"
   ]
  },
  {
   "cell_type": "code",
   "execution_count": 15,
   "id": "5333e1d6",
   "metadata": {},
   "outputs": [],
   "source": [
    "def zoom(img, zx, zy):\n",
    "    return apply_affine_transform(img,\n",
    "                                  zx=zx,\n",
    "                                  zy=zy,\n",
    "                                  row_axis=0,\n",
    "                                  col_axis=1,\n",
    "                                  channel_axis=2,\n",
    "                                  fill_mode=\"nearest\")    "
   ]
  },
  {
   "cell_type": "code",
   "execution_count": 16,
   "id": "d50da54a",
   "metadata": {},
   "outputs": [],
   "source": [
    "def augmentation(img):\n",
    "    img = img_to_array(img)\n",
    "    changed = False\n",
    "    \n",
    "    while not changed:\n",
    "        p = random.randint(0, 1)\n",
    "        if p == 1:\n",
    "            img = horizontal(img)\n",
    "            changed = True\n",
    "\n",
    "        p = random.randint(0, 1)\n",
    "        if p == 1:\n",
    "            degree = random.randint(0, 360)\n",
    "            img = rotate(img, degree)\n",
    "            changed = True\n",
    "\n",
    "        p = random.randint(0, 1)\n",
    "        if p == 1:\n",
    "            val = random.randint(0, 3)\n",
    "            img = transform(img, val)\n",
    "            changed = True\n",
    "\n",
    "        p = random.randint(0, 1)\n",
    "        if p == 1:\n",
    "            zx = random.randint(9, 11)\n",
    "            zx = zx/10\n",
    "            img = zoom(img, zx, zx)\n",
    "            changed = True \n",
    "        \n",
    "    return array_to_img(img) "
   ]
  },
  {
   "cell_type": "code",
   "execution_count": 17,
   "id": "707b2dc9",
   "metadata": {},
   "outputs": [],
   "source": [
    "def copy_data(path):\n",
    "    folders = os.listdir(path)\n",
    "    for folder in folders:\n",
    "        print(folder)\n",
    "        images = os.listdir(path + \"/\" + folder)\n",
    "\n",
    "        for img in images:\n",
    "            if img[-7:-4] == 'aug':\n",
    "                continue\n",
    "            \n",
    "            image = load_img(path + \"/\" + folder + \"/\" + img)\n",
    "            for n in range(aug_count):\n",
    "                aug_img = augmentation(image)\n",
    "                save_img(path + \"/\" + folder + \"/\" + img[:-4] + \"_\" + str(n) + \"_aug.jpg\", aug_img)"
   ]
  },
  {
   "cell_type": "code",
   "execution_count": 18,
   "id": "b580c73f",
   "metadata": {},
   "outputs": [
    {
     "name": "stdout",
     "output_type": "stream",
     "text": [
      "food\n",
      "non_food\n"
     ]
    }
   ],
   "source": [
    "copy_data(path_train)"
   ]
  },
  {
   "cell_type": "code",
   "execution_count": 19,
   "id": "94ee11af",
   "metadata": {},
   "outputs": [
    {
     "name": "stdout",
     "output_type": "stream",
     "text": [
      "food\n",
      "non_food\n"
     ]
    }
   ],
   "source": [
    "copy_data(path_valid)"
   ]
  },
  {
   "cell_type": "code",
   "execution_count": 20,
   "id": "49e3d2fe",
   "metadata": {},
   "outputs": [
    {
     "name": "stdout",
     "output_type": "stream",
     "text": [
      "food\n",
      "non_food\n"
     ]
    }
   ],
   "source": [
    "copy_data(path_test)"
   ]
  }
 ],
 "metadata": {
  "kernelspec": {
   "display_name": "Python 3.11.3 64-bit",
   "language": "python",
   "name": "python3"
  },
  "language_info": {
   "codemirror_mode": {
    "name": "ipython",
    "version": 3
   },
   "file_extension": ".py",
   "mimetype": "text/x-python",
   "name": "python",
   "nbconvert_exporter": "python",
   "pygments_lexer": "ipython3",
   "version": "3.11.3"
  },
  "vscode": {
   "interpreter": {
    "hash": "c261aea317cc0286b3b3261fbba9abdec21eaa57589985bb7a274bf54d6cc0a7"
   }
  }
 },
 "nbformat": 4,
 "nbformat_minor": 5
}
